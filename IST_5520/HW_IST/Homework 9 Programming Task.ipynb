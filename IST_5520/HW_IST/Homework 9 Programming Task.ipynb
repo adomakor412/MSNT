{
 "cells": [
  {
   "cell_type": "markdown",
   "metadata": {},
   "source": [
    "<h1 align=\"center\"> Homework 9 Programming Task (10 Points) </h1>\n",
    "<h3 align=\"center\"> IST 5520, Fall 2022 </h3>\n",
    "<h3 align=\"center\"> By:  </h3>\n",
    "<h3 align=\"center\"> Last Update: 10/30/2022 </h3>"
   ]
  },
  {
   "cell_type": "markdown",
   "metadata": {},
   "source": [
    "The data file *Banks.csv* contains data on a sample of 20 banks. The “Financial Condition” column records the judgment of an expert on the financial condition of each bank. This outcome variable takes one of two possible values — 1 (weak) or 0 (strong) — according to the financial condition of the bank. The predictors are two ratios used in the financial analysis of banks: \n",
    "\n",
    "- **TotLns&Lses/Assets** is the ratio of total loans and leases to total assets;\n",
    "- **TotExp/Assets** is the ratio of total expenses to total assets. The target is to use the two ratios for classifying the financial condition of a new bank."
   ]
  },
  {
   "cell_type": "markdown",
   "metadata": {},
   "source": [
    "## Step 1: Model Specification (3 points)\n",
    "\n",
    "Use LaTeX syntax (for an introduction, refer to https://patrickwalls.github.io/mathematicalpython/jupyter/latex/) to write the estimated equation that associates the financial condition of a bank with its two predictors in three formats:\n",
    "\n",
    "1)\tThe logit as a function of the predictors (1 point)\n",
    "\n",
    "Your answer:\n",
    "\n",
    "2)\tThe odds as a function of the predictors (1 point)\n",
    "\n",
    "Your answer:\n",
    "\n",
    "3)\tThe probability as a function of the predictors (1 point)\n",
    "\n",
    "Your answer:"
   ]
  },
  {
   "cell_type": "markdown",
   "metadata": {},
   "source": [
    "## Step 2: Logistic Regression (5 points)\n",
    "\n",
    "Implement a logistic regression model (on the entire dataset) that models the status of a bank as a function of the two financial measures provided. Interpret the estimates of coefficients.\n",
    "\n",
    "Note: Feel free to add more code lines below to implement the logic."
   ]
  },
  {
   "cell_type": "code",
   "execution_count": null,
   "metadata": {},
   "outputs": [],
   "source": []
  },
  {
   "cell_type": "markdown",
   "metadata": {},
   "source": [
    "Calculate marginal effects and interpret the estimates of marginal effects."
   ]
  },
  {
   "cell_type": "code",
   "execution_count": null,
   "metadata": {},
   "outputs": [],
   "source": []
  },
  {
   "cell_type": "markdown",
   "metadata": {},
   "source": [
    "## Step 3. Predict New Data (2 points)\n",
    "\n",
    "Consider a new bank whose total loans and leases/assets ratio = 0.6 and total expenses/assets ratio = 0.11. From your logistic regression model, estimate the following two quantities for this bank: \n",
    "\n",
    "- the probability of being financially weak;\n",
    "- the classification of the bank (use cutoff = 0.5).\n"
   ]
  },
  {
   "cell_type": "code",
   "execution_count": null,
   "metadata": {
    "scrolled": true
   },
   "outputs": [],
   "source": []
  }
 ],
 "metadata": {
  "anaconda-cloud": {},
  "kernelspec": {
   "display_name": "Python 3 (ipykernel)",
   "language": "python",
   "name": "python3"
  },
  "language_info": {
   "codemirror_mode": {
    "name": "ipython",
    "version": 3
   },
   "file_extension": ".py",
   "mimetype": "text/x-python",
   "name": "python",
   "nbconvert_exporter": "python",
   "pygments_lexer": "ipython3",
   "version": "3.10.6"
  }
 },
 "nbformat": 4,
 "nbformat_minor": 1
}
