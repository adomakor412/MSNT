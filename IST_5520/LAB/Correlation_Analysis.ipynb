{
 "cells": [
  {
   "cell_type": "markdown",
   "metadata": {},
   "source": [
    "<h1 align=\"center\"> Correlation Analysis </h1>\n",
    "<h3 align=\"center\"> IST 5520: Data Science and Machine Learning with Python </h3>\n",
    "<h3 align=\"center\"> By: Langtao Chen </h3>\n",
    "<h3 align=\"center\"> Last Update: 9/27/2022 </h3>"
   ]
  },
  {
   "cell_type": "code",
   "execution_count": 4,
   "metadata": {},
   "outputs": [],
   "source": [
    "# Import modules\n",
    "import pandas as pd\n",
    "import numpy as np\n",
    "import matplotlib.pyplot as plt\n",
    "import seaborn as sns"
   ]
  },
  {
   "cell_type": "markdown",
   "metadata": {},
   "source": [
    "We use the Toyota Corolla dataset to show how to use tabular methods in Pandas."
   ]
  },
  {
   "cell_type": "code",
   "execution_count": 7,
   "metadata": {
    "scrolled": false
   },
   "outputs": [
    {
     "data": {
      "text/html": [
       "<div>\n",
       "<style scoped>\n",
       "    .dataframe tbody tr th:only-of-type {\n",
       "        vertical-align: middle;\n",
       "    }\n",
       "\n",
       "    .dataframe tbody tr th {\n",
       "        vertical-align: top;\n",
       "    }\n",
       "\n",
       "    .dataframe thead th {\n",
       "        text-align: right;\n",
       "    }\n",
       "</style>\n",
       "<table border=\"1\" class=\"dataframe\">\n",
       "  <thead>\n",
       "    <tr style=\"text-align: right;\">\n",
       "      <th></th>\n",
       "      <th>Price</th>\n",
       "      <th>Age</th>\n",
       "      <th>KM</th>\n",
       "      <th>FuelType</th>\n",
       "      <th>HP</th>\n",
       "      <th>MetColor</th>\n",
       "      <th>Automatic</th>\n",
       "      <th>CC</th>\n",
       "      <th>Doors</th>\n",
       "      <th>Weight</th>\n",
       "    </tr>\n",
       "  </thead>\n",
       "  <tbody>\n",
       "    <tr>\n",
       "      <th>984</th>\n",
       "      <td>9450</td>\n",
       "      <td>63</td>\n",
       "      <td>45000</td>\n",
       "      <td>Petrol</td>\n",
       "      <td>110</td>\n",
       "      <td>1</td>\n",
       "      <td>0</td>\n",
       "      <td>1600</td>\n",
       "      <td>4</td>\n",
       "      <td>1035</td>\n",
       "    </tr>\n",
       "    <tr>\n",
       "      <th>1407</th>\n",
       "      <td>8250</td>\n",
       "      <td>69</td>\n",
       "      <td>44826</td>\n",
       "      <td>Petrol</td>\n",
       "      <td>110</td>\n",
       "      <td>0</td>\n",
       "      <td>0</td>\n",
       "      <td>1600</td>\n",
       "      <td>5</td>\n",
       "      <td>1075</td>\n",
       "    </tr>\n",
       "    <tr>\n",
       "      <th>207</th>\n",
       "      <td>10950</td>\n",
       "      <td>43</td>\n",
       "      <td>85017</td>\n",
       "      <td>Petrol</td>\n",
       "      <td>97</td>\n",
       "      <td>0</td>\n",
       "      <td>0</td>\n",
       "      <td>1400</td>\n",
       "      <td>5</td>\n",
       "      <td>1060</td>\n",
       "    </tr>\n",
       "    <tr>\n",
       "      <th>1014</th>\n",
       "      <td>10450</td>\n",
       "      <td>65</td>\n",
       "      <td>36000</td>\n",
       "      <td>Petrol</td>\n",
       "      <td>110</td>\n",
       "      <td>1</td>\n",
       "      <td>0</td>\n",
       "      <td>1600</td>\n",
       "      <td>3</td>\n",
       "      <td>1065</td>\n",
       "    </tr>\n",
       "    <tr>\n",
       "      <th>828</th>\n",
       "      <td>9950</td>\n",
       "      <td>68</td>\n",
       "      <td>68865</td>\n",
       "      <td>Petrol</td>\n",
       "      <td>110</td>\n",
       "      <td>1</td>\n",
       "      <td>0</td>\n",
       "      <td>1600</td>\n",
       "      <td>3</td>\n",
       "      <td>1065</td>\n",
       "    </tr>\n",
       "    <tr>\n",
       "      <th>183</th>\n",
       "      <td>21500</td>\n",
       "      <td>2</td>\n",
       "      <td>15</td>\n",
       "      <td>Petrol</td>\n",
       "      <td>110</td>\n",
       "      <td>1</td>\n",
       "      <td>0</td>\n",
       "      <td>1600</td>\n",
       "      <td>5</td>\n",
       "      <td>1130</td>\n",
       "    </tr>\n",
       "    <tr>\n",
       "      <th>254</th>\n",
       "      <td>9940</td>\n",
       "      <td>39</td>\n",
       "      <td>53644</td>\n",
       "      <td>Petrol</td>\n",
       "      <td>110</td>\n",
       "      <td>1</td>\n",
       "      <td>0</td>\n",
       "      <td>1600</td>\n",
       "      <td>5</td>\n",
       "      <td>1075</td>\n",
       "    </tr>\n",
       "    <tr>\n",
       "      <th>167</th>\n",
       "      <td>20950</td>\n",
       "      <td>14</td>\n",
       "      <td>5278</td>\n",
       "      <td>Petrol</td>\n",
       "      <td>110</td>\n",
       "      <td>1</td>\n",
       "      <td>1</td>\n",
       "      <td>1600</td>\n",
       "      <td>4</td>\n",
       "      <td>1150</td>\n",
       "    </tr>\n",
       "    <tr>\n",
       "      <th>390</th>\n",
       "      <td>7750</td>\n",
       "      <td>55</td>\n",
       "      <td>137000</td>\n",
       "      <td>Diesel</td>\n",
       "      <td>72</td>\n",
       "      <td>1</td>\n",
       "      <td>0</td>\n",
       "      <td>2000</td>\n",
       "      <td>5</td>\n",
       "      <td>1135</td>\n",
       "    </tr>\n",
       "    <tr>\n",
       "      <th>736</th>\n",
       "      <td>9250</td>\n",
       "      <td>68</td>\n",
       "      <td>84482</td>\n",
       "      <td>Petrol</td>\n",
       "      <td>110</td>\n",
       "      <td>1</td>\n",
       "      <td>0</td>\n",
       "      <td>1600</td>\n",
       "      <td>5</td>\n",
       "      <td>1075</td>\n",
       "    </tr>\n",
       "  </tbody>\n",
       "</table>\n",
       "</div>"
      ],
      "text/plain": [
       "      Price  Age      KM FuelType   HP  MetColor  Automatic    CC  Doors  \\\n",
       "984    9450   63   45000   Petrol  110         1          0  1600      4   \n",
       "1407   8250   69   44826   Petrol  110         0          0  1600      5   \n",
       "207   10950   43   85017   Petrol   97         0          0  1400      5   \n",
       "1014  10450   65   36000   Petrol  110         1          0  1600      3   \n",
       "828    9950   68   68865   Petrol  110         1          0  1600      3   \n",
       "183   21500    2      15   Petrol  110         1          0  1600      5   \n",
       "254    9940   39   53644   Petrol  110         1          0  1600      5   \n",
       "167   20950   14    5278   Petrol  110         1          1  1600      4   \n",
       "390    7750   55  137000   Diesel   72         1          0  2000      5   \n",
       "736    9250   68   84482   Petrol  110         1          0  1600      5   \n",
       "\n",
       "      Weight  \n",
       "984     1035  \n",
       "1407    1075  \n",
       "207     1060  \n",
       "1014    1065  \n",
       "828     1065  \n",
       "183     1130  \n",
       "254     1075  \n",
       "167     1150  \n",
       "390     1135  \n",
       "736     1075  "
      ]
     },
     "execution_count": 7,
     "metadata": {},
     "output_type": "execute_result"
    }
   ],
   "source": [
    "dat = pd.read_csv(\"../ToyotaCorolla.csv\")\n",
    "dat.sample(10)"
   ]
  },
  {
   "cell_type": "markdown",
   "metadata": {},
   "source": [
    "## 1. Correlation Table\n",
    "\n",
    "We can call the corr() method of the DataFrame object to calculate pairwise correlations between variables."
   ]
  },
  {
   "cell_type": "code",
   "execution_count": 8,
   "metadata": {},
   "outputs": [
    {
     "data": {
      "text/html": [
       "<div>\n",
       "<style scoped>\n",
       "    .dataframe tbody tr th:only-of-type {\n",
       "        vertical-align: middle;\n",
       "    }\n",
       "\n",
       "    .dataframe tbody tr th {\n",
       "        vertical-align: top;\n",
       "    }\n",
       "\n",
       "    .dataframe thead th {\n",
       "        text-align: right;\n",
       "    }\n",
       "</style>\n",
       "<table border=\"1\" class=\"dataframe\">\n",
       "  <thead>\n",
       "    <tr style=\"text-align: right;\">\n",
       "      <th></th>\n",
       "      <th>Price</th>\n",
       "      <th>Age</th>\n",
       "      <th>KM</th>\n",
       "      <th>HP</th>\n",
       "      <th>MetColor</th>\n",
       "      <th>Automatic</th>\n",
       "      <th>CC</th>\n",
       "      <th>Doors</th>\n",
       "      <th>Weight</th>\n",
       "    </tr>\n",
       "  </thead>\n",
       "  <tbody>\n",
       "    <tr>\n",
       "      <th>Price</th>\n",
       "      <td>1.000000</td>\n",
       "      <td>-0.876590</td>\n",
       "      <td>-0.569960</td>\n",
       "      <td>0.314990</td>\n",
       "      <td>0.108905</td>\n",
       "      <td>0.033081</td>\n",
       "      <td>0.165067</td>\n",
       "      <td>0.185326</td>\n",
       "      <td>0.581198</td>\n",
       "    </tr>\n",
       "    <tr>\n",
       "      <th>Age</th>\n",
       "      <td>-0.876590</td>\n",
       "      <td>1.000000</td>\n",
       "      <td>0.505672</td>\n",
       "      <td>-0.156622</td>\n",
       "      <td>-0.108150</td>\n",
       "      <td>0.031717</td>\n",
       "      <td>-0.133182</td>\n",
       "      <td>-0.148359</td>\n",
       "      <td>-0.470253</td>\n",
       "    </tr>\n",
       "    <tr>\n",
       "      <th>KM</th>\n",
       "      <td>-0.569960</td>\n",
       "      <td>0.505672</td>\n",
       "      <td>1.000000</td>\n",
       "      <td>-0.333538</td>\n",
       "      <td>-0.080503</td>\n",
       "      <td>-0.081854</td>\n",
       "      <td>0.302150</td>\n",
       "      <td>-0.036197</td>\n",
       "      <td>-0.028598</td>\n",
       "    </tr>\n",
       "    <tr>\n",
       "      <th>HP</th>\n",
       "      <td>0.314990</td>\n",
       "      <td>-0.156622</td>\n",
       "      <td>-0.333538</td>\n",
       "      <td>1.000000</td>\n",
       "      <td>0.058712</td>\n",
       "      <td>0.013144</td>\n",
       "      <td>0.050884</td>\n",
       "      <td>0.092424</td>\n",
       "      <td>0.089614</td>\n",
       "    </tr>\n",
       "    <tr>\n",
       "      <th>MetColor</th>\n",
       "      <td>0.108905</td>\n",
       "      <td>-0.108150</td>\n",
       "      <td>-0.080503</td>\n",
       "      <td>0.058712</td>\n",
       "      <td>1.000000</td>\n",
       "      <td>-0.019335</td>\n",
       "      <td>0.034921</td>\n",
       "      <td>0.085243</td>\n",
       "      <td>0.057929</td>\n",
       "    </tr>\n",
       "    <tr>\n",
       "      <th>Automatic</th>\n",
       "      <td>0.033081</td>\n",
       "      <td>0.031717</td>\n",
       "      <td>-0.081854</td>\n",
       "      <td>0.013144</td>\n",
       "      <td>-0.019335</td>\n",
       "      <td>1.000000</td>\n",
       "      <td>-0.069321</td>\n",
       "      <td>-0.027654</td>\n",
       "      <td>0.057249</td>\n",
       "    </tr>\n",
       "    <tr>\n",
       "      <th>CC</th>\n",
       "      <td>0.165067</td>\n",
       "      <td>-0.133182</td>\n",
       "      <td>0.302150</td>\n",
       "      <td>0.050884</td>\n",
       "      <td>0.034921</td>\n",
       "      <td>-0.069321</td>\n",
       "      <td>1.000000</td>\n",
       "      <td>0.126768</td>\n",
       "      <td>0.651450</td>\n",
       "    </tr>\n",
       "    <tr>\n",
       "      <th>Doors</th>\n",
       "      <td>0.185326</td>\n",
       "      <td>-0.148359</td>\n",
       "      <td>-0.036197</td>\n",
       "      <td>0.092424</td>\n",
       "      <td>0.085243</td>\n",
       "      <td>-0.027654</td>\n",
       "      <td>0.126768</td>\n",
       "      <td>1.000000</td>\n",
       "      <td>0.302618</td>\n",
       "    </tr>\n",
       "    <tr>\n",
       "      <th>Weight</th>\n",
       "      <td>0.581198</td>\n",
       "      <td>-0.470253</td>\n",
       "      <td>-0.028598</td>\n",
       "      <td>0.089614</td>\n",
       "      <td>0.057929</td>\n",
       "      <td>0.057249</td>\n",
       "      <td>0.651450</td>\n",
       "      <td>0.302618</td>\n",
       "      <td>1.000000</td>\n",
       "    </tr>\n",
       "  </tbody>\n",
       "</table>\n",
       "</div>"
      ],
      "text/plain": [
       "              Price       Age        KM        HP  MetColor  Automatic  \\\n",
       "Price      1.000000 -0.876590 -0.569960  0.314990  0.108905   0.033081   \n",
       "Age       -0.876590  1.000000  0.505672 -0.156622 -0.108150   0.031717   \n",
       "KM        -0.569960  0.505672  1.000000 -0.333538 -0.080503  -0.081854   \n",
       "HP         0.314990 -0.156622 -0.333538  1.000000  0.058712   0.013144   \n",
       "MetColor   0.108905 -0.108150 -0.080503  0.058712  1.000000  -0.019335   \n",
       "Automatic  0.033081  0.031717 -0.081854  0.013144 -0.019335   1.000000   \n",
       "CC         0.165067 -0.133182  0.302150  0.050884  0.034921  -0.069321   \n",
       "Doors      0.185326 -0.148359 -0.036197  0.092424  0.085243  -0.027654   \n",
       "Weight     0.581198 -0.470253 -0.028598  0.089614  0.057929   0.057249   \n",
       "\n",
       "                 CC     Doors    Weight  \n",
       "Price      0.165067  0.185326  0.581198  \n",
       "Age       -0.133182 -0.148359 -0.470253  \n",
       "KM         0.302150 -0.036197 -0.028598  \n",
       "HP         0.050884  0.092424  0.089614  \n",
       "MetColor   0.034921  0.085243  0.057929  \n",
       "Automatic -0.069321 -0.027654  0.057249  \n",
       "CC         1.000000  0.126768  0.651450  \n",
       "Doors      0.126768  1.000000  0.302618  \n",
       "Weight     0.651450  0.302618  1.000000  "
      ]
     },
     "execution_count": 8,
     "metadata": {},
     "output_type": "execute_result"
    }
   ],
   "source": [
    "dat.corr(method='pearson')"
   ]
  },
  {
   "cell_type": "markdown",
   "metadata": {},
   "source": [
    "The pandas corr() method does not tell us the p-values. To show the p-value, we can use the scipy.stats.pearsonr() method."
   ]
  },
  {
   "cell_type": "code",
   "execution_count": 4,
   "metadata": {},
   "outputs": [],
   "source": [
    "import scipy as sp"
   ]
  },
  {
   "cell_type": "code",
   "execution_count": 5,
   "metadata": {},
   "outputs": [
    {
     "data": {
      "text/plain": [
       "PearsonRResult(statistic=0.5811975886422491, pvalue=1.6304869326484818e-130)"
      ]
     },
     "execution_count": 5,
     "metadata": {},
     "output_type": "execute_result"
    }
   ],
   "source": [
    "sp.stats.pearsonr(dat['Price'],dat['Weight'])"
   ]
  },
  {
   "cell_type": "markdown",
   "metadata": {},
   "source": [
    "The correlation between Price and Weight is 0.58. P-value < 0.001 means that the correlation is statistically significant."
   ]
  },
  {
   "cell_type": "code",
   "execution_count": 6,
   "metadata": {},
   "outputs": [
    {
     "data": {
      "text/plain": [
       "PearsonRResult(statistic=0.03308069441471013, pvalue=0.21026735893253332)"
      ]
     },
     "execution_count": 6,
     "metadata": {},
     "output_type": "execute_result"
    }
   ],
   "source": [
    "sp.stats.pearsonr(dat['Price'],dat['Automatic'])"
   ]
  },
  {
   "cell_type": "markdown",
   "metadata": {},
   "source": [
    "The correlation between Price and Automatic is not statistically significant (p-value = 0.21 > 0.05)"
   ]
  },
  {
   "cell_type": "markdown",
   "metadata": {},
   "source": [
    "## 2. Correlation Heatmap\n",
    "\n",
    "We can use seaborn module to create correlation heatmap, which helps us to easily detect high and low pairwise correlations in a dataset."
   ]
  },
  {
   "cell_type": "code",
   "execution_count": 7,
   "metadata": {
    "scrolled": true
   },
   "outputs": [
    {
     "data": {
      "text/plain": [
       "<AxesSubplot: >"
      ]
     },
     "execution_count": 7,
     "metadata": {},
     "output_type": "execute_result"
    },
    {
     "data": {
      "image/png": "[encoded data removed]",
      "text/plain": [
       "<Figure size 432x288 with 2 Axes>"
      ]
     },
     "metadata": {
      "needs_background": "light"
     },
     "output_type": "display_data"
    }
   ],
   "source": [
    "# Compute and plot the pair-wise correlations\n",
    "sns.heatmap(dat.corr()) "
   ]
  },
  {
   "cell_type": "code",
   "execution_count": 8,
   "metadata": {},
   "outputs": [
    {
     "data": {
      "image/png": "[encoded data removed]",
      "text/plain": [
       "<Figure size 432x288 with 2 Axes>"
      ]
     },
     "metadata": {
      "needs_background": "light"
     },
     "output_type": "display_data"
    }
   ],
   "source": [
    "# Another way to further constomize the correlation heatmap\n",
    "\n",
    "# Create a mask to display only the lower triangle of the matrix\n",
    "mask = np.zeros_like(dat.corr())\n",
    "mask[np.triu_indices_from(mask)] = True\n",
    "\n",
    "sns.heatmap(dat.corr(), cmap='RdYlGn', vmax=1.0, vmin=-1.0 , mask = mask, linewidths=2)\n",
    "# cmap is a colormap. For more information, refer to http://matplotlib.org/examples/color/colormaps_reference.html\n",
    "\n",
    "plt.yticks(rotation=0)\n",
    "plt.xticks(rotation=45)\n",
    "\n",
    "# Save the correlation heatmap as a file, set the quality of the figure as dpi=500\n",
    "plt.savefig('correlation_heatmap.png',dpi=500,bbox_inches='tight')"
   ]
  },
  {
   "cell_type": "markdown",
   "metadata": {},
   "source": [
    "From the above heatmap, we can easily find that **Age** and **KM** are highly and negatively correlated with **Price**, while **Weight** is highly and positively correlated with **Price**. Among independent variables, **CC** and **Weight** are highly and positively correlated."
   ]
  }
 ],
 "metadata": {
  "anaconda-cloud": {},
  "kernelspec": {
   "display_name": "Python 3",
   "language": "python",
   "name": "python3"
  },
  "language_info": {
   "codemirror_mode": {
    "name": "ipython",
    "version": 3
   },
   "file_extension": ".py",
   "mimetype": "text/x-python",
   "name": "python",
   "nbconvert_exporter": "python",
   "pygments_lexer": "ipython3",
   "version": "3.7.9"
  }
 },
 "nbformat": 4,
 "nbformat_minor": 1
}
