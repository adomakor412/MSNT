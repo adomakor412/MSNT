{
 "cells": [
  {
   "cell_type": "markdown",
   "metadata": {},
   "source": [
    "<h1 align=\"center\"> Homework 6 Programming Task</h1>\n",
    "<h3 align=\"center\"> IST 5520: Data Science and Machine Learning with Python, 2022 Fall </h3>\n",
    "<h3 align=\"center\"> Student: Ronald Adomako </h3>"
   ]
  },
  {
   "cell_type": "markdown",
   "metadata": {},
   "source": [
    "**Instruction:**\n",
    "\n",
    "Complete the following tasks (1 point for each task or question, 12 points in total). You can add additional lines if necessary."
   ]
  },
  {
   "cell_type": "markdown",
   "metadata": {},
   "source": [
    "# Task: Summarize and Visualize Data (12 points)"
   ]
  },
  {
   "cell_type": "markdown",
   "metadata": {},
   "source": [
    "## (1) Read in dataset\n",
    "\n",
    "The data file “UniversalBank.csv” contains a dataset of 5000 customers of the Universal Bank.\n",
    "\n",
    "Below is the description of columns in the dataset.\n",
    "\n",
    "- Id: Customer ID\n",
    "- Age: Customer’s age in completed years\n",
    "- Experience: #years of professional experience\n",
    "- Income: Annual income of the customer (1000 dollars)\n",
    "- ZIPCode: Home Address ZIP code.\n",
    "- Family: Family size of the customer\n",
    "- CCAvg: Avg. spending on credit cards per month (1000 dollors)\n",
    "- Education: Education Level. 1: Undergrad; 2: Graduate; 3: Advanced/Professional\n",
    "- Mortgage: Value of house mortgage if any. (1000 dollars)\n",
    "- Personal_Loan: Did this customer accept the personal loan offered in the last campaign?\n",
    "- Securities_Account: Does the customer have a securities account with the bank?\n",
    "- CD_Account: Does the customer have a certificate of deposit (CD) account with the bank?\n",
    "- Online: Does the customer use internet banking facilities?\n",
    "- CreditCard: Does the customer use a credit card issued by UniversalBank?"
   ]
  },
  {
   "cell_type": "code",
   "execution_count": 1,
   "metadata": {},
   "outputs": [],
   "source": [
    "import pandas as pd\n",
    "import matplotlib.pyplot as plt\n",
    "#import seaborn as sns\n",
    "import numpy as np\n",
    "%matplotlib inline"
   ]
  },
  {
   "cell_type": "code",
   "execution_count": null,
   "metadata": {},
   "outputs": [],
   "source": [
    "df = pd.read_csv('UniversalBank.csv')"
   ]
  },
  {
   "cell_type": "markdown",
   "metadata": {},
   "source": [
    "## (2) Print the number of observations and the number of variables in the dataset.\n",
    "\n",
    "Use the following format:\n",
    "\n",
    "\"Number of observations = xxx\"\n",
    "\n",
    "\"Number of variables = xxx\"\n",
    "\n",
    "Do not hard code your logic."
   ]
  },
  {
   "cell_type": "code",
   "execution_count": 2,
   "metadata": {},
   "outputs": [
    {
     "name": "stdout",
     "output_type": "stream",
     "text": [
      "<class 'pandas.core.frame.DataFrame'>\n",
      "RangeIndex: 5000 entries, 0 to 4999\n",
      "Data columns (total 14 columns):\n",
      " #   Column              Non-Null Count  Dtype  \n",
      "---  ------              --------------  -----  \n",
      " 0   Id                  5000 non-null   int64  \n",
      " 1   Age                 5000 non-null   int64  \n",
      " 2   Experience          5000 non-null   int64  \n",
      " 3   Income              5000 non-null   int64  \n",
      " 4   ZIP_Code            5000 non-null   int64  \n",
      " 5   Family              5000 non-null   int64  \n",
      " 6   CCAvg               5000 non-null   float64\n",
      " 7   Education           5000 non-null   int64  \n",
      " 8   Mortgage            5000 non-null   int64  \n",
      " 9   Personal_Loan       5000 non-null   int64  \n",
      " 10  Securities_Account  5000 non-null   int64  \n",
      " 11  CD_Account          5000 non-null   int64  \n",
      " 12  Online              5000 non-null   int64  \n",
      " 13  CreditCard          5000 non-null   int64  \n",
      "dtypes: float64(1), int64(13)\n",
      "memory usage: 547.0 KB\n"
     ]
    }
   ],
   "source": [
    "\n",
    "df.info()"
   ]
  },
  {
   "cell_type": "code",
   "execution_count": 4,
   "metadata": {},
   "outputs": [
    {
     "name": "stdout",
     "output_type": "stream",
     "text": [
      "Number of observations = 5000\n",
      "Number of variables = 14\n"
     ]
    }
   ],
   "source": [
    "print(f'Number of observations = {len(df)}')\n",
    "print(f'Number of variables = {len(df.columns)}')"
   ]
  },
  {
   "cell_type": "markdown",
   "metadata": {},
   "source": [
    "## (3)  Create a contingency table (two-way frequency table) of 'Family' and 'Education', showing subtotals (margins)"
   ]
  },
  {
   "cell_type": "code",
   "execution_count": null,
   "metadata": {
    "scrolled": false
   },
   "outputs": [],
   "source": []
  },
  {
   "cell_type": "markdown",
   "metadata": {},
   "source": [
    "**Question 1**: What is the value in the cell where Family=3 and Education=1? Type your answer below (0.5 point)\n",
    "\n",
    "Your answer: \n",
    "\n",
    "Interpret the meaning of this value below (0.5 point).\n",
    "\n",
    "Your interpretation:\n",
    "\n"
   ]
  },
  {
   "cell_type": "markdown",
   "metadata": {},
   "source": [
    "## (4) Draw a scatter plot of 'Income' and 'CCAvg'.\n",
    "\n",
    "Use Income as x variable, CCAvg as y variable.\n",
    "\n",
    "Specify the labels of x-axis and y-axis by using easy-to-understand language."
   ]
  },
  {
   "cell_type": "code",
   "execution_count": null,
   "metadata": {},
   "outputs": [],
   "source": []
  },
  {
   "cell_type": "markdown",
   "metadata": {},
   "source": [
    "**Question 2**: Based on the scatter plot, what is the relationship between anual income and average spending on credit cards? Type your answer below.\n",
    "\n",
    "Your answer:\n"
   ]
  },
  {
   "cell_type": "markdown",
   "metadata": {},
   "source": [
    "## (5) Draw a boxplot of Income grouped by Personal_Loan.\n",
    "\n",
    "Draw a boxplot of income for customers who accepted the personal loan and another boxplot for customers who did not accept the personal loan. Show all the two boxplots in a single graph."
   ]
  },
  {
   "cell_type": "code",
   "execution_count": null,
   "metadata": {},
   "outputs": [],
   "source": []
  },
  {
   "cell_type": "markdown",
   "metadata": {},
   "source": [
    "**Question 3**: Based on the box plot, which group of customers contains outliers of income? What is the relationship between a customer's income and whether the customer accepted the personal loan? Type all your answers below.\n",
    "\n",
    "Your answer:\n"
   ]
  },
  {
   "cell_type": "markdown",
   "metadata": {},
   "source": [
    "## (6) Detect potential outliers in Income\n",
    "\n",
    "Draw a boxplot of Income for all customers. Show all observations in the dataset that contain outliers in the Income variable. "
   ]
  },
  {
   "cell_type": "code",
   "execution_count": null,
   "metadata": {
    "collapsed": true
   },
   "outputs": [],
   "source": []
  },
  {
   "cell_type": "markdown",
   "metadata": {},
   "source": [
    "**Question 4**: How many outliers have you detected? Type your answer below.\n",
    "\n",
    "Print your answer below. Use the format 'The number of outliers detected = xx'."
   ]
  },
  {
   "cell_type": "code",
   "execution_count": null,
   "metadata": {},
   "outputs": [],
   "source": []
  },
  {
   "cell_type": "markdown",
   "metadata": {},
   "source": [
    "## (7) Draw a bar chart of CCAvg for all family sizes.\n",
    "\n",
    "Show a bar for each family size.\n",
    "\n",
    "Show standard errors on the bars."
   ]
  },
  {
   "cell_type": "code",
   "execution_count": null,
   "metadata": {},
   "outputs": [],
   "source": []
  },
  {
   "cell_type": "code",
   "execution_count": null,
   "metadata": {
    "scrolled": true
   },
   "outputs": [],
   "source": []
  },
  {
   "cell_type": "code",
   "execution_count": null,
   "metadata": {
    "scrolled": false
   },
   "outputs": [],
   "source": []
  },
  {
   "cell_type": "markdown",
   "metadata": {},
   "source": [
    "**Question 5**: Based on the above bar plot, which family has the highest average spending on credit cards per month? Which family size has the greatest variation in the average spending? Type your answers below.\n",
    "\n",
    "Your answer:"
   ]
  }
 ],
 "metadata": {
  "anaconda-cloud": {},
  "kernelspec": {
   "display_name": "Python 3",
   "language": "python",
   "name": "python3"
  },
  "language_info": {
   "codemirror_mode": {
    "name": "ipython",
    "version": 3
   },
   "file_extension": ".py",
   "mimetype": "text/x-python",
   "name": "python",
   "nbconvert_exporter": "python",
   "pygments_lexer": "ipython3",
   "version": "3.7.9"
  }
 },
 "nbformat": 4,
 "nbformat_minor": 1
}
