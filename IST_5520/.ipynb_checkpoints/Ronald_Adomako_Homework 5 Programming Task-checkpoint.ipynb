{
 "cells": [
  {
   "cell_type": "markdown",
   "metadata": {},
   "source": [
    "<h1 align=\"center\"> Homework 5 Programming Task</h1>\n",
    "<h3 align=\"center\"> IST 5520: Data Science and Machine Learning with Python, 2022 Fall </h3>\n",
    "<h3 align=\"center\"> Student: Ronald Adomako </h3>"
   ]
  },
  {
   "cell_type": "markdown",
   "metadata": {},
   "source": [
    "**Instruction:**\n",
    "\n",
    "Complete the following tasks (2 points for each task, 14 points in total). You can add additional lines if necessary."
   ]
  },
  {
   "cell_type": "markdown",
   "metadata": {},
   "source": [
    "# Task: Dataset Manipulation (14 points)"
   ]
  },
  {
   "cell_type": "markdown",
   "metadata": {},
   "source": [
    "(1) Read in dataset\n",
    "\n",
    "The file 'FleetData.csv' contains a dataset of airlines around the world and the airplanes that each owns and operates.\n",
    "\n",
    "Dataset includes the following information:\n",
    "\n",
    "- Parent Airline: i.e. International Airlines Group (IAG)\n",
    "- Airline: i.e. Iberia, Aer Lingus, British Airways...etc. which are owned by IAG\n",
    "- Aircraft Type: Manufacturer & Model\n",
    "- Current: Quantity of airplanes in Operation\n",
    "- Future: Quantity of airplanes on order, from planespotter.net\n",
    "- Order: Quantity airplanes on order, from Wikipedia\n",
    "- Unit Cost: Average unit cost (\\$M) of Aircraft Type, as found by Wikipedia and various google searches\n",
    "- Total Cost: Current quantity * Unit Cost (\\$M)\n",
    "- Average Age: Average age of \"Current\" airplanes by \"Aircraft Type\"\n",
    "\n",
    "After import data, show its head.\n"
   ]
  },
  {
   "cell_type": "code",
   "execution_count": 1,
   "metadata": {},
   "outputs": [],
   "source": [
    "import pandas as pd"
   ]
  },
  {
   "cell_type": "code",
   "execution_count": 2,
   "metadata": {},
   "outputs": [],
   "source": [
    "url = \"https://umsystem.instructure.com/courses/118713/files/13744476?wrap=1\""
   ]
  },
  {
   "cell_type": "code",
   "execution_count": null,
   "metadata": {
    "scrolled": true
   },
   "outputs": [],
   "source": [
    "df = pd.read_csv()"
   ]
  },
  {
   "cell_type": "markdown",
   "metadata": {},
   "source": [
    "(2) Remove special characters [spaces,'(', and ')'] from column names\n",
    "\n",
    "For example, column 'Parent Airline' will be renamed as 'ParentAirline', and column 'Total Cost (Current)' will be renamed as 'TotalCostCurrent'.\n",
    "\n",
    "Hint: Use regular expressions. You can import re first, then use re.sub() method to replace strings in the columns."
   ]
  },
  {
   "cell_type": "code",
   "execution_count": null,
   "metadata": {
    "collapsed": true
   },
   "outputs": [],
   "source": []
  },
  {
   "cell_type": "code",
   "execution_count": null,
   "metadata": {
    "scrolled": true
   },
   "outputs": [],
   "source": []
  },
  {
   "cell_type": "markdown",
   "metadata": {},
   "source": [
    "Show the head again to verify the change of column names."
   ]
  },
  {
   "cell_type": "code",
   "execution_count": null,
   "metadata": {},
   "outputs": [],
   "source": []
  },
  {
   "cell_type": "markdown",
   "metadata": {},
   "source": [
    "(3) Remove non-digital symbols such as \"$\" and \",\" from all values in columns \"UnitCost\" and \"TotalCostCurrent\". Convert these two columns' datatype as float."
   ]
  },
  {
   "cell_type": "code",
   "execution_count": null,
   "metadata": {},
   "outputs": [],
   "source": []
  },
  {
   "cell_type": "code",
   "execution_count": null,
   "metadata": {},
   "outputs": [],
   "source": []
  },
  {
   "cell_type": "markdown",
   "metadata": {},
   "source": [
    "Show the dataset information to verify the change of the datatype of these two columns."
   ]
  },
  {
   "cell_type": "code",
   "execution_count": null,
   "metadata": {},
   "outputs": [],
   "source": []
  },
  {
   "cell_type": "markdown",
   "metadata": {},
   "source": [
    "(4) Calculate the number of unique Airline companies in the dataset."
   ]
  },
  {
   "cell_type": "code",
   "execution_count": null,
   "metadata": {},
   "outputs": [],
   "source": []
  },
  {
   "cell_type": "markdown",
   "metadata": {},
   "source": [
    "(5) Calculate the number of unique Parent Airline companies."
   ]
  },
  {
   "cell_type": "code",
   "execution_count": null,
   "metadata": {},
   "outputs": [],
   "source": []
  },
  {
   "cell_type": "markdown",
   "metadata": {},
   "source": [
    "(6) Calculate the number of airplanes in operation for each parent airline. \n",
    "\n",
    "First, create a new dataset that only contains the 'ParentAirline' and 'Current' columns. \n",
    "\n",
    "Then drop all observations that have NAs in the 'ParentAirline' and 'Current' columns.\n",
    "\n",
    "Then group the new dataset by 'ParentAirline' and calculate the sum of 'Current' value for each parent airline company. Sort the summarized dataset by the number of airplanes in operation in descending order. \n",
    "\n",
    "Hint: Check how many rows are in the grouped dataset, if the number of rows does not match the result in step 4, your grouped dataset is not correct."
   ]
  },
  {
   "cell_type": "code",
   "execution_count": null,
   "metadata": {},
   "outputs": [],
   "source": []
  },
  {
   "cell_type": "code",
   "execution_count": null,
   "metadata": {},
   "outputs": [],
   "source": []
  },
  {
   "cell_type": "code",
   "execution_count": null,
   "metadata": {
    "scrolled": true
   },
   "outputs": [],
   "source": []
  },
  {
   "cell_type": "markdown",
   "metadata": {},
   "source": [
    "(7) Visualize the top 10 parent airlines with its number of airplanes in operation.\n",
    "\n",
    "Select the top 10 parent airlines that have the most number of airplanes in operation. Visualize their number of airplanes in operation in a bar chart.\n",
    "\n",
    "**Hint**: \n",
    "- Before you call the plot() method, select the 'Current' column, such that you can plot a series object rather than a DataFrame with multiple columns.\n",
    "- You can set the pamater kind = 'bar' in the plot() method to draw a bar chart. \n"
   ]
  },
  {
   "cell_type": "code",
   "execution_count": null,
   "metadata": {},
   "outputs": [],
   "source": []
  },
  {
   "cell_type": "code",
   "execution_count": null,
   "metadata": {},
   "outputs": [],
   "source": []
  }
 ],
 "metadata": {
  "anaconda-cloud": {},
  "kernelspec": {
   "display_name": "Python 3",
   "language": "python",
   "name": "python3"
  },
  "language_info": {
   "codemirror_mode": {
    "name": "ipython",
    "version": 3
   },
   "file_extension": ".py",
   "mimetype": "text/x-python",
   "name": "python",
   "nbconvert_exporter": "python",
   "pygments_lexer": "ipython3",
   "version": "3.7.9"
  }
 },
 "nbformat": 4,
 "nbformat_minor": 1
}
