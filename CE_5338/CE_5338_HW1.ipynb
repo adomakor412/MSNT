{
 "cells": [
  {
   "cell_type": "markdown",
   "metadata": {},
   "source": [
    "Ronald Adomako\n",
    "\n",
    "CE 5338\n",
    "\n",
    "Hydrologic Engineering, \n",
    "\n",
    "Professor Martin Pierson\n",
    "\n",
    "HW 1"
   ]
  },
  {
   "cell_type": "markdown",
   "metadata": {},
   "source": [
    "First the quiz: Just answer the questions. This is all full credit. Don't use resources like the internet or your book.\n",
    "\n",
    " \n",
    "\n",
    "a) If I give you flow and channel geometry etc, can you tell me the normal depth?\n",
    "\n",
    "b) What is Sub-critical?\n",
    "\n",
    "c) What is the control direction if water is flowing sub-critical? \n",
    "\n",
    "d) If I give you appropriate geometry and flowrate, can you tell me the depth of water going into an inlet?\n",
    "\n",
    "e) Have you done reservoir routing?\n",
    "\n",
    "Now the HW:\n",
    "\n",
    "1:  Please read Chapter 1 of the Springfield MO “Flood Control and Water Quality Protection Manual” and write a one paragraph summary of what this chapter is about.\n",
    "\n",
    "2:  Please choose one of the subtopics in Chapter 1 (i.e. 2.1 or 3.3 etc) and summarize “Why that subtopic is important” in one paragraph.  Note:  I’m not looking for you to restate the paragraph here.  Draw on your own knowledge or other resources to make your case.\n",
    "\n",
    "3:  Please read Chapter 2 of the Springfield MO “Flood Control and Water Quality Protection Manual” and write a one paragraph summary of what this chapter is about.\n",
    "\n",
    "4:  Please choose one of the subtopics in Chapter 2 (i.e. 2.1 or 3.3 etc) and summarize “Why that subtopic is important” in one paragraph.  Note:  I’m not looking for you to restate the paragraph here.  Draw on your own knowledge or other resources to make your case."
   ]
  },
  {
   "cell_type": "code",
   "execution_count": null,
   "metadata": {},
   "outputs": [],
   "source": []
  }
 ],
 "metadata": {
  "kernelspec": {
   "display_name": "Python 3",
   "language": "python",
   "name": "python3"
  },
  "language_info": {
   "codemirror_mode": {
    "name": "ipython",
    "version": 3
   },
   "file_extension": ".py",
   "mimetype": "text/x-python",
   "name": "python",
   "nbconvert_exporter": "python",
   "pygments_lexer": "ipython3",
   "version": "3.7.9"
  }
 },
 "nbformat": 4,
 "nbformat_minor": 4
}
