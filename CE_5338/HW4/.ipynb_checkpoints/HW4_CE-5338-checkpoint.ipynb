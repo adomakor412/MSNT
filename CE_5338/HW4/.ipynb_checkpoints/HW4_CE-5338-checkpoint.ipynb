{
 "cells": [
  {
   "cell_type": "markdown",
   "id": "0f3f6aa7",
   "metadata": {},
   "source": [
    "Ronald Adomako\n",
    "\n",
    "CE 5338\n",
    "\n",
    "Hydrologic Engineering, \n",
    "\n",
    "Professor Martin Pierson\n",
    "\n",
    "HW 3, Sep. 14, 2022"
   ]
  },
  {
   "cell_type": "code",
   "execution_count": 3,
   "id": "dcef4dc3",
   "metadata": {},
   "outputs": [
    {
     "ename": "ModuleNotFoundError",
     "evalue": "No module named 'wand'",
     "output_type": "error",
     "traceback": [
      "\u001b[1;31m---------------------------------------------------------------------------\u001b[0m",
      "\u001b[1;31mModuleNotFoundError\u001b[0m                       Traceback (most recent call last)",
      "Input \u001b[1;32mIn [3]\u001b[0m, in \u001b[0;36m<cell line: 1>\u001b[1;34m()\u001b[0m\n\u001b[1;32m----> 1\u001b[0m \u001b[38;5;28;01mfrom\u001b[39;00m \u001b[38;5;21;01mwand\u001b[39;00m\u001b[38;5;21;01m.\u001b[39;00m\u001b[38;5;21;01mimage\u001b[39;00m \u001b[38;5;28;01mimport\u001b[39;00m Image \u001b[38;5;28;01mas\u001b[39;00m WImage\n\u001b[0;32m      2\u001b[0m img \u001b[38;5;241m=\u001b[39m WImage(filename\u001b[38;5;241m=\u001b[39m\u001b[38;5;124m'\u001b[39m\u001b[38;5;124m5338 HW 4 Gutter Flow.pdf\u001b[39m\u001b[38;5;124m'\u001b[39m)\n\u001b[0;32m      3\u001b[0m img\n",
      "\u001b[1;31mModuleNotFoundError\u001b[0m: No module named 'wand'"
     ]
    }
   ],
   "source": [
    "from wand.image import Image as WImage\n",
    "img = WImage(filename='5338 HW 4 Gutter Flow.pdf')\n",
    "img"
   ]
  },
  {
   "cell_type": "code",
   "execution_count": null,
   "id": "0adc4f9d",
   "metadata": {},
   "outputs": [],
   "source": []
  }
 ],
 "metadata": {
  "kernelspec": {
   "display_name": "Python 3 (ipykernel)",
   "language": "python",
   "name": "python3"
  },
  "language_info": {
   "codemirror_mode": {
    "name": "ipython",
    "version": 3
   },
   "file_extension": ".py",
   "mimetype": "text/x-python",
   "name": "python",
   "nbconvert_exporter": "python",
   "pygments_lexer": "ipython3",
   "version": "3.9.12"
  }
 },
 "nbformat": 4,
 "nbformat_minor": 5
}
