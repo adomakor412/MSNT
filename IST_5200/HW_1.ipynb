{
 "cells": [
  {
   "cell_type": "markdown",
   "metadata": {},
   "source": [
    "### Book 1 Chapter 2:\n",
    "\n",
    "### Problems 2.1, 2.2, 2.5, 2.6, 2.7, and 2.10.  Each problem deserves 5 points."
   ]
  },
  {
   "cell_type": "markdown",
   "metadata": {},
   "source": [
    "#### 2.1\n",
    "Assuming that data mining techniques are to be used in the following cases, identify\n",
    "whether the task required is supervised or unsupervised learning.\n",
    "#### a. \n",
    "Deciding whether to issue a loan to an applicant based on demographic and financial\n",
    "data (with reference to a database of similar data on prior customers).\n",
    "#### b. \n",
    "In an online bookstore, making recommendations to customers concerning additional\n",
    "items to buy based on the buying patterns in prior transactions.\n",
    "#### c. \n",
    "Identifying a network data packet as dangerous (virus, hacker attack) based on comparison\n",
    "to other packets whose threat status is known.\n",
    "#### d. \n",
    "Identifying segments of similar customers.\n",
    "#### e. \n",
    "Predicting whether a company will go bankrupt based on comparing its financial data\n",
    "to those of similar bankrupt and nonbankrupt firms.\n",
    "#### f. \n",
    "Estimating the repair time required for an aircraft based on a trouble ticket.\n",
    "#### g. \n",
    "Automated sorting of mail by zip code scanning.\n",
    "#### h. \n",
    "Printing of custom discount coupons at the conclusion of a grocery store checkout\n",
    "based on what you just bought and what others have bought previously."
   ]
  },
  {
   "cell_type": "markdown",
   "metadata": {},
   "source": [
    "#### 2.2 Describe the difference in roles assumed by the validation partition and the test partition."
   ]
  },
  {
   "cell_type": "code",
   "execution_count": null,
   "metadata": {},
   "outputs": [],
   "source": []
  },
  {
   "cell_type": "markdown",
   "metadata": {},
   "source": [
    "#### 2.5 Using the concept of overfitting, explain why when a model is fit to training data, zero error with those data is not necessarily good."
   ]
  },
  {
   "cell_type": "code",
   "execution_count": null,
   "metadata": {},
   "outputs": [],
   "source": []
  },
  {
   "cell_type": "markdown",
   "metadata": {},
   "source": [
    "#### 2.6 \n",
    "In fitting a model to classify prospects as purchasers or nonpurchasers, a certain company\n",
    "drew the training data from internal data that include demographic and purchase\n",
    "information. Future data to be classified will be lists purchased from other sources, with\n",
    "demographic (but not purchase) data included. It was found that “refund issued” was a\n",
    "useful predictor in the training data. Why is this not an appropriate variable to include\n",
    "in the model?"
   ]
  }
 ],
 "metadata": {
  "kernelspec": {
   "display_name": "Python 3",
   "language": "python",
   "name": "python3"
  },
  "language_info": {
   "codemirror_mode": {
    "name": "ipython",
    "version": 3
   },
   "file_extension": ".py",
   "mimetype": "text/x-python",
   "name": "python",
   "nbconvert_exporter": "python",
   "pygments_lexer": "ipython3",
   "version": "3.7.6"
  }
 },
 "nbformat": 4,
 "nbformat_minor": 4
}
